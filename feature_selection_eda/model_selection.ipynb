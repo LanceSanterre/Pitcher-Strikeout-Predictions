{
 "cells": [
  {
   "cell_type": "code",
   "execution_count": 1,
   "metadata": {},
   "outputs": [],
   "source": [
    "import numpy as np\n",
    "import pandas as pd\n",
    "from datetime import datetime\n",
    "import warnings\n",
    "warnings.filterwarnings('ignore')"
   ]
  },
  {
   "cell_type": "code",
   "execution_count": 2,
   "metadata": {},
   "outputs": [],
   "source": [
    "X = pd.read_csv(\"/Users/lancesanterre/so_predict/data/training/new_training/X_train.csv\")\n",
    "y = pd.read_csv(\"/Users/lancesanterre/so_predict/data/training/new_training/y_5_train.csv\")"
   ]
  },
  {
   "cell_type": "code",
   "execution_count": 3,
   "metadata": {},
   "outputs": [
    {
     "data": {
      "text/plain": [
       "(18958,)"
      ]
     },
     "execution_count": 3,
     "metadata": {},
     "output_type": "execute_result"
    }
   ],
   "source": [
    "y = y[\"0\"] \n",
    "y.shape"
   ]
  },
  {
   "cell_type": "code",
   "execution_count": 4,
   "metadata": {},
   "outputs": [
    {
     "name": "stdout",
     "output_type": "stream",
     "text": [
      "✅ Loaded 75 selected features: ['avg_SO_5', 'avg_IP_5', 'OPP_SO_PRE', 'avg_ERA_5', 'Gtm', 'avg_FB_5', 'avg_WPA_5', 'avg_GB_5', 'avg_aLI_5', 'avg_H_5']\n",
      "18958 18958\n",
      "✅ Data loaded successfully. Target mean: 0.4455\n",
      "🎯 Unique target values: [0 1]\n",
      "🔎 Detected problem type: binary\n",
      "\n",
      "🔧 Tuning Random Forest (binary)...\n",
      "✅ Best Parameters: {'max_depth': 30, 'min_samples_leaf': 1, 'min_samples_split': 2, 'n_estimators': 200}\n",
      "📈 Best CV Score (roc_auc): 0.8158\n",
      "⏱️ Tuning took 157.24s\n",
      "\n",
      "🧠 Training final model...\n",
      "📊 Saved feature importances to 'final_feature_importances.csv'\n",
      "🏆 Top 5 features:\n",
      "       Feature  Importance\n",
      "0    avg_SO_5    0.075899\n",
      "2  OPP_SO_PRE    0.039870\n",
      "1    avg_IP_5    0.036537\n",
      "3   avg_ERA_5    0.033288\n",
      "4         Gtm    0.029870\n",
      "✅ Model saved as 'final_rf_model.pkl'\n",
      "✅ Scaler saved as 'scaler.pkl'\n",
      "\n",
      "🧪 Evaluating on test set...\n",
      "📈 ROC AUC: 0.8366\n",
      "\n",
      "🎯 Final Results:\n",
      "🔧 Best Hyperparameters: {'max_depth': 30, 'min_samples_leaf': 1, 'min_samples_split': 2, 'n_estimators': 200}\n",
      "📊 Best CV Score: 0.8158\n",
      "🧪 Test Set Score: 0.8366\n"
     ]
    }
   ],
   "source": [
    "import numpy as np\n",
    "import pandas as pd\n",
    "import time\n",
    "from sklearn.model_selection import train_test_split, GridSearchCV\n",
    "from sklearn.preprocessing import StandardScaler\n",
    "from sklearn.ensemble import RandomForestClassifier, RandomForestRegressor\n",
    "from sklearn.metrics import roc_auc_score, accuracy_score, r2_score, mean_squared_error\n",
    "from joblib import dump, load\n",
    "\n",
    "# Set seed\n",
    "np.random.seed(42)\n",
    "\n",
    "# === Load Data ===\n",
    "try:\n",
    "    selected_features = load('selected_features.pkl')\n",
    "    print(f\"✅ Loaded {len(selected_features)} selected features: {selected_features[:10]}\")\n",
    "\n",
    "    X_full = pd.read_csv(\"/Users/lancesanterre/so_predict/data/training/new_training/X_train.csv\")\n",
    "    y = pd.read_csv(\"/Users/lancesanterre/so_predict/data/training/new_training/y_5_train.csv\")\n",
    "    y = y['0']\n",
    "    print(len(X_full),len(y))\n",
    "    assert len(X_full) == len(y)\n",
    "    X = X_full[selected_features]\n",
    "    print(f\"✅ Data loaded successfully. Target mean: {np.mean(y):.4f}\")\n",
    "    print(\"🎯 Unique target values:\", np.unique(y))\n",
    "\n",
    "except Exception as e:\n",
    "    print(\"❌ Error loading data:\", str(e))\n",
    "    raise\n",
    "\n",
    "# === Determine Problem Type ===\n",
    "target_classes = np.unique(y)\n",
    "if len(target_classes) == 2:\n",
    "    problem_type = \"binary\"\n",
    "elif np.issubdtype(y.dtype, np.integer) and len(target_classes) <= 10:\n",
    "    problem_type = \"multiclass\"\n",
    "else:\n",
    "    problem_type = \"regression\"\n",
    "print(f\"🔎 Detected problem type: {problem_type}\")\n",
    "\n",
    "# === Optional Binary Conversion Logic ===\n",
    "# Uncomment below if you want to force binary classification manually\n",
    "# y = (y >= 5).astype(int)\n",
    "# problem_type = \"binary\"\n",
    "\n",
    "# === Train-Test Split ===\n",
    "X_train, X_test, y_train, y_test = train_test_split(X, y, test_size=0.2, random_state=42)\n",
    "\n",
    "# === Hyperparameter Tuning ===\n",
    "def tune_model(X, y, problem_type):\n",
    "    print(f\"\\n🔧 Tuning Random Forest ({problem_type})...\")\n",
    "    start_time = time.time()\n",
    "    scaler = StandardScaler()\n",
    "    X_scaled = scaler.fit_transform(X)\n",
    "\n",
    "    param_grid = {\n",
    "        'n_estimators': [100, 200],\n",
    "        'max_depth': [20, 30, None],\n",
    "        'min_samples_split': [2, 5],\n",
    "        'min_samples_leaf': [1, 2]\n",
    "    }\n",
    "\n",
    "    if problem_type == \"regression\":\n",
    "        model = RandomForestRegressor(random_state=42, n_jobs=-1)\n",
    "        scoring = 'r2'\n",
    "    elif problem_type == \"binary\":\n",
    "        model = RandomForestClassifier(random_state=42, n_jobs=-1)\n",
    "        scoring = 'roc_auc'\n",
    "    else:\n",
    "        model = RandomForestClassifier(random_state=42, n_jobs=-1)\n",
    "        scoring = 'accuracy'\n",
    "\n",
    "    grid = GridSearchCV(model, param_grid, cv=5, scoring=scoring, n_jobs=-1)\n",
    "    grid.fit(X_scaled, y)\n",
    "\n",
    "    print(f\"✅ Best Parameters: {grid.best_params_}\")\n",
    "    print(f\"📈 Best CV Score ({scoring}): {grid.best_score_:.4f}\")\n",
    "    print(f\"⏱️ Tuning took {time.time() - start_time:.2f}s\")\n",
    "    return grid.best_estimator_, grid.best_params_, grid.best_score_, scaler\n",
    "\n",
    "# === Train Final Model ===\n",
    "def train_model(X, y, model, scaler, feature_names):\n",
    "    print(\"\\n🧠 Training final model...\")\n",
    "    X_scaled = scaler.transform(X)\n",
    "    model.fit(X_scaled, y)\n",
    "\n",
    "    if hasattr(model, \"feature_importances_\"):\n",
    "        importances = pd.DataFrame({'Feature': feature_names, 'Importance': model.feature_importances_})\n",
    "        importances = importances.sort_values('Importance', ascending=False)\n",
    "        importances.to_csv('final_feature_importances.csv', index=False)\n",
    "        print(\"📊 Saved feature importances to 'final_feature_importances.csv'\")\n",
    "        print(\"🏆 Top 5 features:\\n\", importances.head())\n",
    "    else:\n",
    "        importances = None\n",
    "\n",
    "    dump(model, 'final_rf_model.pkl')\n",
    "    dump(scaler, 'scaler.pkl')\n",
    "    print(\"✅ Model saved as 'final_rf_model.pkl'\")\n",
    "    print(\"✅ Scaler saved as 'scaler.pkl'\")\n",
    "    return model, importances\n",
    "\n",
    "# === Evaluate Model ===\n",
    "def evaluate_model(X, y, model, scaler, problem_type):\n",
    "    print(\"\\n🧪 Evaluating on test set...\")\n",
    "    X_scaled = scaler.transform(X)\n",
    "\n",
    "    if problem_type == \"regression\":\n",
    "        preds = model.predict(X_scaled)\n",
    "        r2 = r2_score(y, preds)\n",
    "        mse = mean_squared_error(y, preds)\n",
    "        print(f\"📈 R² Score: {r2:.4f}, MSE: {mse:.4f}\")\n",
    "        return r2\n",
    "    elif problem_type == \"binary\":\n",
    "        proba = model.predict_proba(X_scaled)[:, 1]\n",
    "        auc = roc_auc_score(y, proba)\n",
    "        print(f\"📈 ROC AUC: {auc:.4f}\")\n",
    "        return auc\n",
    "    else:\n",
    "        preds = model.predict(X_scaled)\n",
    "        acc = accuracy_score(y, preds)\n",
    "        print(f\"📈 Accuracy: {acc:.4f}\")\n",
    "        return acc\n",
    "\n",
    "# === Run All Steps ===\n",
    "best_model, best_params, best_cv_score, scaler = tune_model(X_train, y_train, problem_type)\n",
    "final_model, importances = train_model(X_train, y_train, best_model, scaler, selected_features)\n",
    "test_score = evaluate_model(X_test, y_test, final_model, scaler, problem_type)\n",
    "\n",
    "# === Final Summary ===\n",
    "print(\"\\n🎯 Final Results:\")\n",
    "print(f\"🔧 Best Hyperparameters: {best_params}\")\n",
    "print(f\"📊 Best CV Score: {best_cv_score:.4f}\")\n",
    "print(f\"🧪 Test Set Score: {test_score:.4f}\")\n"
   ]
  },
  {
   "cell_type": "code",
   "execution_count": 5,
   "metadata": {},
   "outputs": [
    {
     "data": {
      "image/png": "[encoded data removed]",
      "text/plain": [
       "<Figure size 800x600 with 1 Axes>"
      ]
     },
     "metadata": {},
     "output_type": "display_data"
    }
   ],
   "source": [
    "import matplotlib.pyplot as plt\n",
    "import pandas as pd\n",
    "\n",
    "df = pd.read_csv(\"final_feature_importances.csv\")\n",
    "df.head(15).plot(kind=\"barh\", x=\"Feature\", y=\"Importance\", title=\"Top 15 Feature Importances\", figsize=(8,6))\n",
    "plt.gca().invert_yaxis()\n",
    "plt.tight_layout()\n",
    "plt.show()"
   ]
  },
  {
   "cell_type": "code",
   "execution_count": 6,
   "metadata": {},
   "outputs": [
    {
     "name": "stdout",
     "output_type": "stream",
     "text": [
      "[[1670  445]\n",
      " [ 523 1154]]\n",
      "              precision    recall  f1-score   support\n",
      "\n",
      "           0       0.76      0.79      0.78      2115\n",
      "           1       0.72      0.69      0.70      1677\n",
      "\n",
      "    accuracy                           0.74      3792\n",
      "   macro avg       0.74      0.74      0.74      3792\n",
      "weighted avg       0.74      0.74      0.74      3792\n",
      "\n"
     ]
    }
   ],
   "source": [
    "from sklearn.metrics import classification_report, confusion_matrix\n",
    "y_test_pred = final_model.predict(scaler.transform(X_test))\n",
    "print(confusion_matrix(y_test, y_test_pred))\n",
    "print(classification_report(y_test, y_test_pred))"
   ]
  }
 ],
 "metadata": {
  "kernelspec": {
   "display_name": "base",
   "language": "python",
   "name": "python3"
  },
  "language_info": {
   "codemirror_mode": {
    "name": "ipython",
    "version": 3
   },
   "file_extension": ".py",
   "mimetype": "text/x-python",
   "name": "python",
   "nbconvert_exporter": "python",
   "pygments_lexer": "ipython3",
   "version": "3.11.0"
  },
  "orig_nbformat": 4
 },
 "nbformat": 4,
 "nbformat_minor": 2
}
